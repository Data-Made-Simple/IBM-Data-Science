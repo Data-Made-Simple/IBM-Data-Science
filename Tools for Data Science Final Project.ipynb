{
 "cells": [
  {
   "cell_type": "markdown",
   "metadata": {},
   "source": [
    "<center>\n",
    "    <img src=\"https://cf-courses-data.s3.us.cloud-object-storage.appdomain.cloud/IBMDeveloperSkillsNetwork-DS0105EN-SkillsNetwork/labs/Module2/images/SN_web_lightmode.png\" width=\"300\" alt=\"cognitiveclass.ai logo\"  />\n",
    "</center>\n"
   ]
  },
  {
   "cell_type": "markdown",
   "metadata": {},
   "source": [
    "#### Add your code below following the instructions given in the course\n"
   ]
  },
  {
   "cell_type": "markdown",
   "metadata": {},
   "source": [
    "# My Jupyter Notebook on IBM Watson Studio"
   ]
  },
  {
   "cell_type": "markdown",
   "metadata": {},
   "source": [
    "**Kevin Reynolds**\n",
    "<br>\n",
    "Program Manager"
   ]
  },
  {
   "cell_type": "markdown",
   "metadata": {},
   "source": [
    "*I am interested in data science to learn new skills and continued professional development.*"
   ]
  },
  {
   "cell_type": "markdown",
   "metadata": {},
   "source": [
    "### The code in cell multiplies 5 by 5."
   ]
  },
  {
   "cell_type": "code",
   "execution_count": 4,
   "metadata": {},
   "outputs": [
    {
     "data": {
      "text/plain": [
       "25"
      ]
     },
     "execution_count": 4,
     "metadata": {},
     "output_type": "execute_result"
    }
   ],
   "source": [
    "5*5"
   ]
  },
  {
   "cell_type": "markdown",
   "metadata": {},
   "source": [
    "**AFC East Teams**\n",
    "<ol>\n",
    "<li>Patriots</li>\n",
    "<li>Dolphins</li>\n",
    "<li>Jets</li>\n",
    "<li>Bills</li>\n",
    "</ol>\n",
    "\n",
    "**NFC East Teams**\n",
    "<ul>\n",
    "<li>Cowboys</li>\n",
    "<li>Giants</li>\n",
    "<li>Eagles</li>\n",
    "<li>Commanders</li>\n",
    "</ul>\n",
    "\n",
    "**Last 5 Super Bowl Champions**\n",
    "\n",
    "| City | Team Name | Season |\n",
    "| --- | --- | --- |\n",
    "| Los Angeles | Rams | 2021 |\n",
    "| Tampa Bay | Buccaneers | 2020 |\n",
    "| Kansas City | Chiefs | 2019 |\n",
    "| New England | Patriots | 2018 |\n",
    "| Philadelphia | Eagles | 2017 |\n"
   ]
  },
  {
   "cell_type": "code",
   "execution_count": null,
   "metadata": {},
   "outputs": [],
   "source": []
  }
 ],
 "metadata": {
  "kernelspec": {
   "display_name": "Python",
   "language": "python",
   "name": "conda-env-python-py"
  },
  "language_info": {
   "codemirror_mode": {
    "name": "ipython",
    "version": 3
   },
   "file_extension": ".py",
   "mimetype": "text/x-python",
   "name": "python",
   "nbconvert_exporter": "python",
   "pygments_lexer": "ipython3",
   "version": "3.7.12"
  }
 },
 "nbformat": 4,
 "nbformat_minor": 4
}
